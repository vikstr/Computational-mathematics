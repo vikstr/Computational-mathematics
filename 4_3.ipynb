{
 "cells": [
  {
   "cell_type": "markdown",
   "metadata": {},
   "source": [
    "Многошаговый метод 3-го порядка:\n",
    "\\begin{align*}\n",
    "    y_{n+2} = y_{n+1} + h \\left(\\frac{5}{12} f(x_{n+2}, y_{n+2}) + \\frac{2}{3} f(x_{n+1}, y_{n+1}) - \\frac{1}{12} f(x_n, y_n) \\right)\n",
    "\\end{align*}\n",
    "Зададим функции $f(x,u)$ и $f_u(x,u)$."
   ]
  },
  {
   "cell_type": "code",
   "execution_count": 1,
   "metadata": {},
   "outputs": [],
   "source": [
    "import numpy as np\n",
    "import matplotlib.pyplot as plt\n",
    "%matplotlib inline\n",
    "n = 10\n",
    "f = lambda x, y: np.exp(x/2)*np.sqrt(y)\n",
    "df = lambda x, y: np.exp(x/2)*0.5/np.sqrt(y)\n",
    "x0, y0 = 0, 1\n",
    "real_y = lambda x: np.exp(x)"
   ]
  },
  {
   "cell_type": "markdown",
   "metadata": {},
   "source": [
    "* Условия порядка: метод имеет порядок аппроксимации $p$, если \n",
    "$$\n",
    "\\begin{align}\n",
    "& \\sum_{j = 0}^r a_j = 0 \\\\\n",
    "& \\sum_{j=0}^r \\frac{1}{k!} j^k a_j = \\sum_{j=0}^r \\frac{1}{(k-1)!} j^{k-1}b_j, \\; k = 1, \\ldots, p\n",
    "\\end{align}\n",
    "$$\n",
    "$a_0 = 0, a_1 = -1, a_2 = 1$  \n",
    "$b_0 = -\\frac{1}{12}, b_1 = \\frac{2}{3}, b_3 = \\frac{5}{12}$  \n",
    "$$\\sum_{j = 0}^r a_j = 0 + (-1) + 1 = 0 \\\\\n",
    "k=1: \\sum_{j=0}^{r}\\frac{1}{1!}j^1a_j=-1+2=1 = \\sum_{j=0}^r \\frac{1}{(1-1)!} j^{1-1}b_j = -\\frac{1}{12} + \\frac{2}{3} + \\frac{5}{12} = 1 \\\\\n",
    "k=2: \\sum_{j=0}^{r}\\frac{1}{2!}j^2a_j=\\frac{1}{2}(-1+4)=1.5 = \\sum_{j=0}^r \\frac{1}{(2-1)!} j^{2-1}b_j \\\\ =  0\\cdot\\frac{-1}{12} + 1\\cdot\\frac{2}{3} + 2\\cdot\\frac{5}{12} = 1.5\\\\\n",
    "k=3: \\sum_{j=0}^{r}\\frac{1}{3!}j^3a_j=\\frac{1}{6}(-1+8)=\\frac{7}{6} = \\sum_{j=0}^r \\frac{1}{(3-1)!} j^{3-1}b_j  = \\frac{7}{6}\\\\\n",
    "$$\n",
    "Таким образом условия порядка выполнены.\n"
   ]
  },
  {
   "cell_type": "code",
   "execution_count": 2,
   "metadata": {},
   "outputs": [],
   "source": [
    "def newthon(f, df, eps, x0):\n",
    "    x1 = x0 - f(x0)/df(x0)\n",
    "    while np.abs(x1-x0) > eps:\n",
    "        x0 = x1\n",
    "        x1 = x0 - f(x0)/df(x0)\n",
    "    return x1"
   ]
  },
  {
   "cell_type": "markdown",
   "metadata": {},
   "source": [
    "$y_0$ нам известно. Значениe $y_1$ найдем методом Рунге-Кутты 3-го порядка.\n",
    "Метод Рунге-Кутты 3 порядка:  \n",
    "$y_{n+1} = y_n + \\frac{h}{6}(k_1 + 4k_2 + k_3)$  \n",
    "$k_1=f(x_n, y_n)$  \n",
    "$k_2=f(x_n+\\frac{h}{2}, y_n+\\frac{h}{2}k_1)$  \n",
    "$k_3=f(x_n+h, y_n - hk_1 + 2hk_2)$   "
   ]
  },
  {
   "cell_type": "code",
   "execution_count": 3,
   "metadata": {},
   "outputs": [],
   "source": [
    "def r_k(f, xn, yn, h):\n",
    "    k1 = f(xn, yn)\n",
    "    k2 = f(xn+h/2, yn+h/2*k1)\n",
    "    k3 = f(xn+h, yn -h*k1 + 2*h*k2)\n",
    "    return yn + h/6*(k1+4*k2+k3)"
   ]
  },
  {
   "cell_type": "code",
   "execution_count": 4,
   "metadata": {},
   "outputs": [],
   "source": [
    "def solve_DE(f, df, x, x0, y0):\n",
    "    y = np.zeros_like(x)\n",
    "    h = x[1]-x[0]\n",
    "    y[0] = y0\n",
    "    y[1] = r_k(f, x0, y0, h)\n",
    "    eps = h\n",
    "    for i in range(len(y)-2):\n",
    "        xn, xn1, xn2 = x[i:i+3]\n",
    "        yn, yn1 = y[i:i+2]\n",
    "        F = lambda yn2: yn1 + h*(5*f(xn2, yn2)+8*f(xn1, yn1) - f(xn, yn))/12-yn2\n",
    "        dF = lambda yn2: h*5*df(xn2, yn2)-1       \n",
    "        y[i+2] = newthon(F, dF, eps, y[i+1])\n",
    "    return y"
   ]
  },
  {
   "cell_type": "code",
   "execution_count": 5,
   "metadata": {},
   "outputs": [],
   "source": [
    "def get_error(real , calculated):\n",
    "    return np.linalg.norm((real-calculated),np.infty)"
   ]
  },
  {
   "cell_type": "code",
   "execution_count": 7,
   "metadata": {
    "scrolled": true
   },
   "outputs": [
    {
     "data": {
      "image/png": "[encoded data removed]",
      "text/plain": [
       "<Figure size 432x288 with 1 Axes>"
      ]
     },
     "metadata": {
      "needs_background": "light"
     },
     "output_type": "display_data"
    },
    {
     "data": {
      "text/plain": [
       "Text(0, 0.5, 'error')"
      ]
     },
     "execution_count": 7,
     "metadata": {},
     "output_type": "execute_result"
    },
    {
     "data": {
      "image/png": "[encoded data removed]",
      "text/plain": [
       "<Figure size 432x288 with 1 Axes>"
      ]
     },
     "metadata": {
      "needs_background": "light"
     },
     "output_type": "display_data"
    }
   ],
   "source": [
    "error = np.zeros((2, n))\n",
    "for i in range(n):\n",
    "    x = np.linspace(x0, x0+1, 2**(i+5)+1)\n",
    "    y = solve_DE(f, df, x, x0, y0)\n",
    "    error[0][i] = 1/(2**(i+5))\n",
    "    error[1][i] = get_error(real_y(x), y)\n",
    "plt.plot(x,real_y(x), label = 'real')\n",
    "plt.plot(x,y, label = 'calculated')\n",
    "plt.legend()\n",
    "plt.show()\n",
    "plt.loglog(error[0], error[1])\n",
    "plt.xlabel('h')\n",
    "plt.ylabel('error')"
   ]
  },
  {
   "cell_type": "code",
   "execution_count": null,
   "metadata": {},
   "outputs": [],
   "source": []
  },
  {
   "cell_type": "code",
   "execution_count": null,
   "metadata": {},
   "outputs": [],
   "source": []
  }
 ],
 "metadata": {
  "kernelspec": {
   "display_name": "Python 3",
   "language": "python",
   "name": "python3"
  },
  "language_info": {
   "codemirror_mode": {
    "name": "ipython",
    "version": 3
   },
   "file_extension": ".py",
   "mimetype": "text/x-python",
   "name": "python",
   "nbconvert_exporter": "python",
   "pygments_lexer": "ipython3",
   "version": "3.6.6"
  }
 },
 "nbformat": 4,
 "nbformat_minor": 2
}
