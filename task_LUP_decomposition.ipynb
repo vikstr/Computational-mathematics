{
 "cells": [
  {
   "cell_type": "code",
   "execution_count": 71,
   "metadata": {},
   "outputs": [],
   "source": [
    "import sys\n",
    "import numpy as np\n",
    "import scipy\n",
    "import scipy.linalg\n",
    "n=20"
   ]
  },
  {
   "cell_type": "code",
   "execution_count": null,
   "metadata": {},
   "outputs": [],
   "source": [
    "def forward(A, b, P):\n",
    "    y = np.zeros(n)\n",
    "    for i in range(n):\n",
    "        for j in range(n):\n",
    "            y[i] += P[i][j]*b[j]\n",
    "    for i in range(n):\n",
    "        for j in range(i):\n",
    "            y[i] -= A[i][j] * y[j]\n",
    "    return y\n",
    "def mult_matrix(M,N):\n",
    "    MN = np.zeros((n,n))\n",
    "    for i in range(n):\n",
    "        for j in range(n):\n",
    "            for k in range(n):\n",
    "                MN[i][j]+=M[i][k]*N[k][j]\n",
    "    return MN\n",
    "def backward(U, y):\n",
    "    x = [0] * n\n",
    "    for i in reversed(range(n)):\n",
    "        x[i] = y[i]\n",
    "        for j in range(i + 1, n):\n",
    "            x[i] -= U[i][j] * x[j]\n",
    "        x[i] /= U[i][i]\n",
    "    return x\n",
    "def swap(A, B):\n",
    "    tmp = []\n",
    "    tmp = A\n",
    "    A = B\n",
    "    B = tmp\n",
    "def pivot(M):\n",
    "    id_m = np.eye(n)\n",
    "    for i in range(n - 1):\n",
    "        max_i = M[i][i]\n",
    "        for j in range(i, n):\n",
    "            if max_i < M[j][i]:\n",
    "                max_i = M[j][i]\n",
    "                swap(id_m[i], id_m[j])\n",
    "                swap(M[i], M[j])\n",
    "    return id_m, M\n",
    "def LUPdecomposition(A):                                                                                                                                                                                                                \n",
    "    L = [[0.0] * n for i in range(n)] \n",
    "    U = [[0.0] * n for i in range(n)]\n",
    "    pivot_matrix_,L1,U1 = scipy.linalg.lu(A, permute_l=False, overwrite_a=False, check_finite=True)\n",
    "    x = [0 for i in range(n)]\n",
    "    P, PA = pivot(A)\n",
    "    #PA = mult_matrix(pivot_matrix,A) \n",
    "    for j in range(n):\n",
    "        U[0][j] = A[0][j]\n",
    "        L[j][0] = A[j][0] / U[0][0]\n",
    "    for i in range(1, n):\n",
    "        for j in range(i, n):\n",
    "            U[i][j] = PA[i][j] - sum(U[k][j] * L[i][k] for k in range(i))\n",
    "            L[j][i] = (PA[j][i] - sum(U[k][i] * L[j][k] for k in range(j))) / U[i][i]\n",
    "    return P, L, U\n",
    "def solvematrixequation(A, b):\n",
    "    P,L,U = LUPdecomposition(A)\n",
    "    print(P)\n",
    "    print(L)\n",
    "    print(U)\n",
    "    y = forward(L,b, P)\n",
    "    x = backward(U,y)\n",
    "    return x\n",
    "\n",
    "A1 = np.random.rand(n,n)\n",
    "b1 = np.random.rand(n)\n",
    "#Еще так можно вводить, но для тестирования задачи необязательно вводить имеено с input() :)\n",
    "#A = []\n",
    "#for i in range(n):\n",
    "#    row = input().split()\n",
    "#    for j in range(n):\n",
    "#        row[j]=int(row[j])\n",
    "#    A.append(row)\n",
    "#b = list()\n",
    "#for k in range(n):\n",
    "#    x = input()\n",
    "#    b.append(int(x))\n",
    "X = solvematrixequation(A1,b1)\n",
    "X_usual_sol = np.linalg.solve(A1,b1)\n",
    "l_1=np.linalg.norm(X - X_usual_sol,1)\n",
    "print('The norm of difference between solutions is:', l_1)"
   ]
  },
  {
   "cell_type": "code",
   "execution_count": 69,
   "metadata": {},
   "outputs": [
    {
     "ename": "NameError",
     "evalue": "name 'L' is not defined",
     "output_type": "error",
     "traceback": [
      "\u001b[0;31m---------------------------------------------------------------------------\u001b[0m",
      "\u001b[0;31mNameError\u001b[0m                                 Traceback (most recent call last)",
      "\u001b[0;32m<ipython-input-69-55b3cce8dcd4>\u001b[0m in \u001b[0;36m<module>\u001b[0;34m()\u001b[0m\n\u001b[1;32m      1\u001b[0m \u001b[0;32mfor\u001b[0m \u001b[0mj\u001b[0m \u001b[0;32min\u001b[0m \u001b[0mrange\u001b[0m\u001b[0;34m(\u001b[0m\u001b[0mn\u001b[0m\u001b[0;34m)\u001b[0m\u001b[0;34m:\u001b[0m\u001b[0;34m\u001b[0m\u001b[0m\n\u001b[0;32m----> 2\u001b[0;31m     \u001b[0mL\u001b[0m\u001b[0;34m[\u001b[0m\u001b[0mj\u001b[0m\u001b[0;34m]\u001b[0m\u001b[0;34m[\u001b[0m\u001b[0mj\u001b[0m\u001b[0;34m]\u001b[0m \u001b[0;34m=\u001b[0m \u001b[0;36m1.0\u001b[0m\u001b[0;34m\u001b[0m\u001b[0m\n\u001b[0m\u001b[1;32m      3\u001b[0m     \u001b[0;31m# u_{ij} = a_{ij} - \\sum_{k=1}^{i-1} u_{kj} l_{ik}\u001b[0m\u001b[0;34m\u001b[0m\u001b[0;34m\u001b[0m\u001b[0m\n\u001b[1;32m      4\u001b[0m     \u001b[0;32mfor\u001b[0m \u001b[0mi\u001b[0m \u001b[0;32min\u001b[0m \u001b[0mrange\u001b[0m\u001b[0;34m(\u001b[0m\u001b[0mj\u001b[0m\u001b[0;34m+\u001b[0m\u001b[0;36m1\u001b[0m\u001b[0;34m)\u001b[0m\u001b[0;34m:\u001b[0m\u001b[0;34m\u001b[0m\u001b[0m\n\u001b[1;32m      5\u001b[0m         \u001b[0ms1\u001b[0m \u001b[0;34m=\u001b[0m \u001b[0msum\u001b[0m\u001b[0;34m(\u001b[0m\u001b[0mU\u001b[0m\u001b[0;34m[\u001b[0m\u001b[0mk\u001b[0m\u001b[0;34m]\u001b[0m\u001b[0;34m[\u001b[0m\u001b[0mj\u001b[0m\u001b[0;34m]\u001b[0m \u001b[0;34m*\u001b[0m \u001b[0mL\u001b[0m\u001b[0;34m[\u001b[0m\u001b[0mi\u001b[0m\u001b[0;34m]\u001b[0m\u001b[0;34m[\u001b[0m\u001b[0mk\u001b[0m\u001b[0;34m]\u001b[0m \u001b[0;32mfor\u001b[0m \u001b[0mk\u001b[0m \u001b[0;32min\u001b[0m \u001b[0mrange\u001b[0m\u001b[0;34m(\u001b[0m\u001b[0mi\u001b[0m\u001b[0;34m)\u001b[0m\u001b[0;34m)\u001b[0m\u001b[0;34m\u001b[0m\u001b[0m\n",
      "\u001b[0;31mNameError\u001b[0m: name 'L' is not defined"
     ]
    }
   ],
   "source": [
    "    for j in range(n):                                                                                                                                                                                                   \n",
    "        L[j][j] = 1.0\n",
    "        # u_{ij} = a_{ij} - \\sum_{k=1}^{i-1} u_{kj} l_{ik}                                                                                                                                                                                      \n",
    "        for i in range(j+1):\n",
    "            s1 = sum(U[k][j] * L[i][k] for k in range(i))\n",
    "            U[i][j] = PA[i][j] - s1\n",
    "        # l_{ij} = \\frac{1}{u_{jj}} (a_{ij} - \\sum_{k=1}^{j-1} u_{kj} l_{ik} )                                                                                                                                                                  \n",
    "        for i in range(j, n):\n",
    "            s2 = sum(U[k][j] * L[i][k] for k in range(j))\n",
    "            L[i][j] = (PA[i][j] - s2) / U[j][j]\n",
    "    P = pivot_matrix\n",
    "    return (P, L, U)"
   ]
  },
  {
   "cell_type": "code",
   "execution_count": null,
   "metadata": {},
   "outputs": [],
   "source": []
  }
 ],
 "metadata": {
  "kernelspec": {
   "display_name": "Python 3",
   "language": "python",
   "name": "python3"
  },
  "language_info": {
   "codemirror_mode": {
    "name": "ipython",
    "version": 3
   },
   "file_extension": ".py",
   "mimetype": "text/x-python",
   "name": "python",
   "nbconvert_exporter": "python",
   "pygments_lexer": "ipython3",
   "version": "3.6.6"
  }
 },
 "nbformat": 4,
 "nbformat_minor": 2
}
